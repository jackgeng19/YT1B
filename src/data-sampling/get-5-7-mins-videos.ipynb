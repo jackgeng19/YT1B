{
 "cells": [
  {
   "cell_type": "code",
   "execution_count": 9,
   "metadata": {},
   "outputs": [],
   "source": [
    "import csv\n",
    "import json\n",
    "import gzip\n",
    "import shutil\n",
    "import os\n",
    "import random\n",
    "from youtube_transcript_api import YouTubeTranscriptApi\n",
    "from youtube_transcript_api.formatters import JSONFormatter\n",
    "import tiktoken"
   ]
  },
  {
   "cell_type": "code",
   "execution_count": 10,
   "metadata": {},
   "outputs": [],
   "source": [
    "def num_tokens_from_string(string: str, encoding_name: str) -> int:\n",
    "    encoding = tiktoken.encoding_for_model(encoding_name)\n",
    "    num_tokens = len(encoding.encode(string))\n",
    "    return num_tokens"
   ]
  },
  {
   "cell_type": "code",
   "execution_count": 17,
   "metadata": {},
   "outputs": [],
   "source": [
    "def temp():\n",
    "    # file_number = random.randint(0, 1023)\n",
    "    # file_number_str = f\"{file_number:04d}\"\n",
    "    file_number_str = \"0000\"\n",
    "\n",
    "\n",
    "    # Build the input file name\n",
    "    input_file_name = f\"./../../metadata/yttemporal1b_train_{file_number_str}of1024.jsonl.gz\"\n",
    "    # Build the temporary unzipped file name\n",
    "    unzipped_file_name = f\"./../../metadata/yttemporal1b_train_{file_number_str}of1024.jsonl\"\n",
    "\n",
    "    # Extract the JSONL file from the gzip file\n",
    "    with gzip.open(input_file_name, 'rb') as gz_file:\n",
    "        with open(unzipped_file_name, 'wb') as json_file:\n",
    "            shutil.copyfileobj(gz_file, json_file)\n",
    "\n",
    "\n",
    "    # Read all the video data from the JSON Lines file into a list\n",
    "    with open(unzipped_file_name, \"r\") as input_file:\n",
    "        datas = [json.loads(line) for line in input_file]\n",
    "\n",
    "        output_file_path = f'''./../../sampleData/{file_number_str}-5-7/metadata.json'''\n",
    "        if not os.path.exists(f'''./../../sampleData/{file_number_str}-5-7'''):\n",
    "            os.mkdir(f'''./../../sampleData/{file_number_str}-5-7''')\n",
    "\n",
    "        for i in range(0, len(datas) - 1):\n",
    "            cur_vid = datas[i]\n",
    "            if(cur_vid[\"duration\"] > 420):\n",
    "                try:\n",
    "                    srt = YouTubeTranscriptApi.get_transcript(cur_vid[\"id\"], languages=['en'])\n",
    "                    formatter = JSONFormatter()\n",
    "                    json_formatted = formatter.format_transcript(srt)\n",
    "                except Exception as e:\n",
    "                    continue\n",
    "                else:\n",
    "                    if num_tokens_from_string(json_formatted, \"gpt-4\") < 7500:\n",
    "                        with open(output_file_path, \"a+\") as output_file:\n",
    "                            json.dump(cur_vid, output_file)\n",
    "                            output_file.write(\"\\n\")"
   ]
  },
  {
   "cell_type": "code",
   "execution_count": null,
   "metadata": {},
   "outputs": [],
   "source": [
    "temp()"
   ]
  },
  {
   "cell_type": "code",
   "execution_count": 4,
   "metadata": {},
   "outputs": [
    {
     "name": "stdout",
     "output_type": "stream",
     "text": [
      "1812\n"
     ]
    }
   ],
   "source": [
    "la = \"./../../sampleData/0000-5-7/metadata.json\"\n",
    "\n",
    "with open(la, \"r\") as input_file:\n",
    "    datas = [json.loads(line) for line in input_file]\n",
    "    print(len(datas))\n",
    "\n",
    "# Now, data_list contains a list of individual JSON objects\n",
    "\n"
   ]
  }
 ],
 "metadata": {
  "kernelspec": {
   "display_name": "base",
   "language": "python",
   "name": "python3"
  },
  "language_info": {
   "codemirror_mode": {
    "name": "ipython",
    "version": 3
   },
   "file_extension": ".py",
   "mimetype": "text/x-python",
   "name": "python",
   "nbconvert_exporter": "python",
   "pygments_lexer": "ipython3",
   "version": "3.10.9"
  },
  "orig_nbformat": 4
 },
 "nbformat": 4,
 "nbformat_minor": 2
}
