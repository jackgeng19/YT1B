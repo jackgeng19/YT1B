{
 "cells": [
  {
   "cell_type": "code",
   "execution_count": 2,
   "metadata": {},
   "outputs": [],
   "source": [
    "import openai\n",
    "import os\n",
    "from youtube_transcript_api import YouTubeTranscriptApi\n",
    "from youtube_transcript_api.formatters import JSONFormatter\n",
    "openai.api_key = os.environ.get(\"OPENAI_API_KEY\")"
   ]
  },
  {
   "cell_type": "code",
   "execution_count": 47,
   "metadata": {},
   "outputs": [],
   "source": [
    "v_list = [\n",
    "    \"8eBU4QfrFL4\",\n",
    "    \"Ejafz5lj18k\",\n",
    "    \"OGilPWdaikI\",\n",
    "    \"wzYeeEq_bpE\",\n",
    "    \"1_2z1xR1kEw\",\n",
    "    \"Pp395_y5iAY\",\n",
    "    \"XkPO0aGiwY8\",\n",
    "    \"FN3gffqZqa4\",\n",
    "    \"pnL0Qrz6WD8\",\n",
    "    \"5by9wrIVLo4\",\n",
    "    \"2opKpaVeohQ\",\n",
    "    \"8SUl15KT-UE\",\n",
    "    \"CiqD1W_xcs4\",\n",
    "    \"JzGcodr1GBY\",\n",
    "    \"m17NMko5JJE\",\n",
    "    \"ocF54wI_4I0\",\n",
    "    \"QzpNtmPxOLo\",\n",
    "    \"tj1eyZONhD0\",\n",
    "    \"XNo91k1JvR0\",\n",
    "    \"jkGX_DqKHJk\"\n",
    "]"
   ]
  },
  {
   "cell_type": "code",
   "execution_count": 48,
   "metadata": {},
   "outputs": [],
   "source": [
    "video_list = v_list # change the video_list to target video list\n",
    "task = \"VKE-extraction\" # don't change for now\n",
    "prompt_id = 3 # name should be same as the file name: \"./../LLM-prompts/VKE-extraction/{prompt_id}.txt\"\n",
    "vid = \"_1vYacRLyJM\" # change the vid to target vid if want to test on single video\n",
    "# vid = '_S3e3a00qtw' # 3,558\n",
    "# vid = 'mQ-BGPxNX7U'"
   ]
  },
  {
   "cell_type": "code",
   "execution_count": 49,
   "metadata": {},
   "outputs": [],
   "source": [
    "def generate(task, prompt_id, vid, isExtracting = True):\n",
    "    messages = [ {\"role\": \"system\", \"content\": \"You are a intelligent assistant.\"} ]\n",
    "\n",
    "    message = \"\"\n",
    "\n",
    "    with open(f\"./../LLM-prompts/{task}/{prompt_id}.txt\") as prompt:\n",
    "        message = prompt.read()\n",
    "\n",
    "    srt = YouTubeTranscriptApi.get_transcript(vid, languages=['en'])\n",
    "    formatter = JSONFormatter()\n",
    "    json_formatted = formatter.format_transcript(srt)\n",
    "    message += json_formatted\n",
    "    messages.append(\n",
    "        {\"role\": \"user\", \"content\": message},\n",
    "    )\n",
    "    model3 = \"gpt-3.5-turbo-16k\"\n",
    "    model4 = \"gpt-4\"\n",
    "\n",
    "    with open(\"./../LLM-scripts/current-prompt.txt\", \"w\") as input_file:\n",
    "        input_file.write(str(messages))\n",
    "    print(\"input updated\")\n",
    "\n",
    "    if isExtracting:\n",
    "        chat = openai.ChatCompletion.create(\n",
    "            model=model4, messages=messages, temperature=0.0\n",
    "        )\n",
    "        reply = chat.choices[0].message.content\n",
    "        output_dir = f\"./../output/{task}-result/{prompt_id}\"\n",
    "        if not os.path.exists(output_dir):\n",
    "            os.makedirs(output_dir)\n",
    "        with open(f\"{output_dir}/{vid}-{task}-{prompt_id}.txt\", \"w\") as file:\n",
    "            file.write(reply)\n",
    "        print(vid + \" generated\")\n",
    "\n"
   ]
  },
  {
   "cell_type": "code",
   "execution_count": null,
   "metadata": {},
   "outputs": [],
   "source": [
    "\"\"\"Generate VKE for the list\"\"\"\n",
    "for vid in video_list:\n",
    "    generate(task, prompt_id, vid)"
   ]
  },
  {
   "cell_type": "code",
   "execution_count": null,
   "metadata": {},
   "outputs": [],
   "source": [
    "\"\"\"Generate VKE for single video\"\"\"\n",
    "generate(task, prompt_id, vid)"
   ]
  },
  {
   "cell_type": "code",
   "execution_count": null,
   "metadata": {},
   "outputs": [],
   "source": [
    "\"\"\"To get prompt for single video\"\"\"\n",
    "generate(task, prompt_id, vid, False)"
   ]
  }
 ],
 "metadata": {
  "kernelspec": {
   "display_name": "Python 3",
   "language": "python",
   "name": "python3"
  },
  "language_info": {
   "codemirror_mode": {
    "name": "ipython",
    "version": 3
   },
   "file_extension": ".py",
   "mimetype": "text/x-python",
   "name": "python",
   "nbconvert_exporter": "python",
   "pygments_lexer": "ipython3",
   "version": "3.10.9"
  },
  "orig_nbformat": 4
 },
 "nbformat": 4,
 "nbformat_minor": 2
}
