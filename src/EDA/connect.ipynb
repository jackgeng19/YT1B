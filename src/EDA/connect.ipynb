{
 "cells": [
  {
   "cell_type": "code",
   "execution_count": 1,
   "metadata": {},
   "outputs": [],
   "source": [
    "import json\n",
    "\n",
    "def process_subtitles(input_file, output_file):\n",
    "    with open(input_file, 'r') as f, open(output_file, 'w') as out:\n",
    "        for line in f:\n",
    "            data = json.loads(line)\n",
    "            subtitle = ' '.join(data['subtitles_words'])\n",
    "            output_data = {\n",
    "                'id': data['id'],\n",
    "                'subtitle': subtitle\n",
    "            }\n",
    "            out.write(json.dumps(output_data) + '\\n')\n",
    "\n",
    "input_file = '/Users/jackgengqc/Desktop/yttemporal1b_train_0000of1024.jsonl'\n",
    "output_file = '/Users/jackgengqc/Desktop/yttemporal1b_train_0000of1024_clean.jsonl'\n",
    "process_subtitles(input_file, output_file)\n"
   ]
  }
 ],
 "metadata": {
  "kernelspec": {
   "display_name": "Python 3",
   "language": "python",
   "name": "python3"
  },
  "language_info": {
   "codemirror_mode": {
    "name": "ipython",
    "version": 3
   },
   "file_extension": ".py",
   "mimetype": "text/x-python",
   "name": "python",
   "nbconvert_exporter": "python",
   "pygments_lexer": "ipython3",
   "version": "3.10.6"
  },
  "orig_nbformat": 4
 },
 "nbformat": 4,
 "nbformat_minor": 2
}
