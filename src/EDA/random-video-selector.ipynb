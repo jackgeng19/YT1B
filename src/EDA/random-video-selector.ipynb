{
 "cells": [
  {
   "cell_type": "code",
   "execution_count": 1,
   "metadata": {},
   "outputs": [],
   "source": [
    "import csv\n",
    "import json\n",
    "import gzip\n",
    "import shutil\n",
    "import os\n",
    "import random"
   ]
  },
  {
   "cell_type": "code",
   "execution_count": 3,
   "metadata": {},
   "outputs": [
    {
     "name": "stdout",
     "output_type": "stream",
     "text": [
      "./../metadata/yttemporal1b_train_0203of1024.jsonl.gz\n",
      "13278\n"
     ]
    }
   ],
   "source": [
    "output_file_path = \"./output/simpleInfo/random-selected-video.json\"\n",
    "\n",
    "file_number = random.randint(0, 1023)\n",
    "file_number_str = f\"{file_number:04d}\"\n",
    "\n",
    "# Build the input file name\n",
    "input_file_name = f\"./../metadata/yttemporal1b_train_{file_number_str}of1024.jsonl.gz\"\n",
    "print(input_file_name)\n",
    "# Build the temporary unzipped file name\n",
    "unzipped_file_name = f\"./../metadata/yttemporal1b_train_{file_number_str}of1024.jsonl\"\n",
    "\n",
    "# Extract the JSONL file from the gzip file\n",
    "with gzip.open(input_file_name, 'rb') as gz_file:\n",
    "    with open(unzipped_file_name, 'wb') as json_file:\n",
    "        shutil.copyfileobj(gz_file, json_file)\n",
    "\n",
    "\n",
    "# Read all the video data from the JSON Lines file into a list\n",
    "with open(unzipped_file_name, \"r\") as input_file:\n",
    "    datas = [json.loads(line) for line in input_file]\n",
    "\n",
    "# Generate a random index to select a random video\n",
    "random_index = random.randint(0, len(datas) - 1)\n",
    "print(random_index)\n",
    "random_video_data = datas[random_index]\n",
    "\n",
    "# Write the data of the randomly selected video to the output file\n",
    "with open(output_file_path, \"w\") as output_file:\n",
    "    formatted_data = json.dumps(random_video_data, indent=4)\n",
    "    output_file.write(formatted_data)\n",
    "\n",
    "os.remove(unzipped_file_name)\n",
    "\n"
   ]
  }
 ],
 "metadata": {
  "kernelspec": {
   "display_name": "Python 3",
   "language": "python",
   "name": "python3"
  },
  "language_info": {
   "codemirror_mode": {
    "name": "ipython",
    "version": 3
   },
   "file_extension": ".py",
   "mimetype": "text/x-python",
   "name": "python",
   "nbconvert_exporter": "python",
   "pygments_lexer": "ipython3",
   "version": "3.10.2"
  },
  "orig_nbformat": 4
 },
 "nbformat": 4,
 "nbformat_minor": 2
}
