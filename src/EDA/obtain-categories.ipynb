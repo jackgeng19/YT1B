{
 "cells": [
  {
   "cell_type": "code",
   "execution_count": 13,
   "metadata": {},
   "outputs": [],
   "source": [
    "import os\n",
    "import json\n",
    "import pandas as pd\n",
    "import gzip\n",
    "\n",
    "# Function to process each jsonl file\n",
    "def process_jsonl_file(file_path, csv_file):\n",
    "    with gzip.open(file_path, 'rt', encoding='utf-8') as f:\n",
    "        for line in f:\n",
    "            data = json.loads(line)\n",
    "            categories = data.get(\"categories\", [])\n",
    "            duration = data.get(\"duration\", 0)\n",
    "            if duration > 600:\n",
    "                for category in categories:\n",
    "                    if category in csv_file:\n",
    "                        csv_file[category] += 1\n",
    "                    else:\n",
    "                        csv_file[category] = 1\n",
    "\n",
    "# Function to write data to CSV file\n",
    "def write_to_csv(csv_file, csv_filename):\n",
    "    df = pd.DataFrame(list(csv_file.items()), columns=[\"category\", \"count\"])\n",
    "    df.to_csv(csv_filename, index=False)\n",
    "\n",
    "\n",
    "metadata_folder = \"./../metadata/\"\n",
    "csv_filename = \"./output/simpleInfo/output.csv\"\n",
    "csv_file = {}\n",
    "\n",
    "for i in range(1024):\n",
    "    delete_file = os.path.join(metadata_folder, f\"yttemporal1b_train_{i:04d}of1024.jsonl\")\n",
    "    jsonl_file = os.path.join(metadata_folder, f\"yttemporal1b_train_{i:04d}of1024.jsonl.gz\")\n",
    "    process_jsonl_file(jsonl_file, csv_file)\n",
    "    write_to_csv(csv_file, csv_filename)\n",
    "    # os.remove(delete_file)  # Remove the unzipped jsonl file\n",
    "\n"
   ]
  }
 ],
 "metadata": {
  "kernelspec": {
   "display_name": "Python 3",
   "language": "python",
   "name": "python3"
  },
  "language_info": {
   "codemirror_mode": {
    "name": "ipython",
    "version": 3
   },
   "file_extension": ".py",
   "mimetype": "text/x-python",
   "name": "python",
   "nbconvert_exporter": "python",
   "pygments_lexer": "ipython3",
   "version": "3.10.2"
  },
  "orig_nbformat": 4
 },
 "nbformat": 4,
 "nbformat_minor": 2
}
